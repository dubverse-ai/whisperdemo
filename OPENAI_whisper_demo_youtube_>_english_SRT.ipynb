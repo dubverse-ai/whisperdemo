{
  "nbformat": 4,
  "nbformat_minor": 0,
  "metadata": {
    "colab": {
      "provenance": [],
      "collapsed_sections": [],
      "private_outputs": true,
      "include_colab_link": true
    },
    "kernelspec": {
      "name": "python3",
      "display_name": "Python 3"
    },
    "accelerator": "GPU"
  },
  "cells": [
    {
      "cell_type": "markdown",
      "metadata": {
        "id": "view-in-github",
        "colab_type": "text"
      },
      "source": [
        "<a href=\"https://colab.research.google.com/github/dubverse-ai/whisperdemo/blob/main/OPENAI_whisper_demo_youtube_%3E_english_SRT.ipynb\" target=\"_parent\"><img src=\"https://colab.research.google.com/assets/colab-badge.svg\" alt=\"Open In Colab\"/></a>"
      ]
    },
    {
      "cell_type": "markdown",
      "source": [
        "This demo takes in any youtube video and converts it into English SRT\n",
        "\n",
        " ![whisper_logo.png](data:image/png;base64,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)\n",
        "\n",
        "Powered by [dubverse.ai](https://dubverse.ai/) where we are working to make every video go multi-lingual"
      ],
      "metadata": {
        "id": "2Pht8iSf4Ak7"
      }
    },
    {
      "metadata": {
        "id": "H4rxNhsEpr-c",
        "cellView": "form"
      },
      "cell_type": "code",
      "source": [
        "#@title INSTALL DEPENDENCIES\n",
        "!pip install --quiet ffmpeg-python git+https://github.com/openai/whisper.git > /dev/null --q\n",
        "!pip3 install gradio --q\n",
        "!pip3 install vtt_to_srt3 --q\n",
        "!sudo curl -L https://yt-dl.org/downloads/latest/youtube-dl -o /usr/local/bin/youtube-dl\n",
        "!sudo chmod a+rx /usr/local/bin/youtube-dl"
      ],
      "execution_count": null,
      "outputs": []
    },
    {
      "cell_type": "code",
      "source": [
        "#@title Launch the APP\n",
        "\n",
        "import gradio as gr\n",
        "import os\n",
        "import subprocess\n",
        "\n",
        "from vtt_to_srt.vtt_to_srt import vtt_to_srt\n",
        "\n",
        "\n",
        "def greet(youtube_link,source_language):\n",
        "    if(os.exists('audio.m4a')):\n",
        "      os.remove('audio.m4a')\n",
        "      os.remove('audio.m4a.vtt')\n",
        "      os.remove('audio.m4a.srt')\n",
        "    print(1)\n",
        "    subprocess.run('youtube-dl -f bestaudio '+str(youtube_link)+' -o \"audio.m4a\"',shell=True)\n",
        "    print(2)\n",
        "    subprocess.run('whisper audio.m4a --language '+str(source_language)+' --task translate',shell=True)\n",
        "    print(3)\n",
        "    path = '/content/audio.m4a.vtt'\n",
        "    vtt_to_srt(path)\n",
        "    with open('/content/audio.m4a.srt','r') as file:\n",
        "      data=file.read()\n",
        "    return data,'/content/audio.m4a.srt'\n",
        "\n",
        "demo = gr.Interface(\n",
        "    fn=greet,\n",
        "    inputs=[gr.Textbox(lines=2, placeholder=\"paste youtube link here\"),gr.Textbox(lines=2, placeholder=\"enter the source language (Marathi,Hindi,Spanish...etc)\")],\n",
        "    outputs=[gr.Textbox(label=\"SRT/SUBS\"),gr.File(label=\"Download the SRT/SUBS\")]\n",
        ")\n",
        "demo.launch(debug=True)"
      ],
      "metadata": {
        "id": "wAkVkxq6octM",
        "cellView": "form"
      },
      "execution_count": null,
      "outputs": []
    },
    {
      "cell_type": "code",
      "source": [],
      "metadata": {
        "id": "tTc69OSoEiow"
      },
      "execution_count": null,
      "outputs": []
    }
  ]
}